{
 "cells": [
  {
   "cell_type": "markdown",
   "metadata": {},
   "source": [
    "*Dit materiaal behandeld grofweg dezelfde stof als hoofdstuk 3.4 uit Fundament Informatica, maar is uitgebreid met oefeningen waarin leerlingen bestaande programma's verbeteren, bijvoorbeeld om een foutmelding of een logische fout op te lossen. In de voorgaande hoofdstukken zijn booleaanse waarden, vergelijkingsoperatoren en booleaanse operatoren besproken.*"
   ]
  },
  {
   "cell_type": "markdown",
   "metadata": {},
   "source": [
    "# If-statements\n",
    "\n",
    "Tot nu toe deden alle programma's die we hebben geschreven steeds hetzelfde: alle regels code werden altijd één voor één uitgevoerd. Soms willen we echter dat er dingen anders lopen in een bepaalde situatie. Zie dit voorbeeld:"
   ]
  },
  {
   "cell_type": "code",
   "execution_count": 1,
   "metadata": {},
   "outputs": [
    {
     "name": "stdout",
     "output_type": "stream",
     "text": [
      "Sorry, je bent niet stemgerechtigd\n"
     ]
    }
   ],
   "source": [
    "leeftijd = 16\n",
    "if leeftijd < 18:\n",
    "    print(\"Sorry, je bent niet stemgerechtigd\")"
   ]
  },
  {
   "cell_type": "markdown",
   "metadata": {},
   "source": [
    "In dit voorbeeld wordt de melding \"Sorry, je bent niet stemgerechtigd\" weergegeven, omdat de ingevulde leeftijd onder de 18 is. Als we echter de leeftijd veranderen, dan wordt de melding niet geprint:"
   ]
  },
  {
   "cell_type": "code",
   "execution_count": 2,
   "metadata": {},
   "outputs": [],
   "source": [
    "leeftijd = 32\n",
    "if leeftijd < 18:\n",
    "    print(\"Sorry, je bent niet stemgerechtigd\")"
   ]
  },
  {
   "cell_type": "markdown",
   "metadata": {},
   "source": [
    "Het keyword `if` geeft aan dat we code voorwaardelijk uitvoeren. Na `if` staat een voorwaarde: deze is *waar* (`True`) of *niet waar* (`False`). De regel wordt afgesloten met een dubbele punt. De code die onder het if-statement staat wordt alleen uitgevoerd als de voorwaarde *waar* is. Alle regels die bij het if-statement horen moeten met dezelfde hoeveelheid spaties worden ingesprongen:"
   ]
  },
  {
   "cell_type": "code",
   "execution_count": 3,
   "metadata": {},
   "outputs": [
    {
     "name": "stdout",
     "output_type": "stream",
     "text": [
      "Sorry, je bent niet stemgerechtigd\n",
      "Kom over 2 jaar terug\n"
     ]
    }
   ],
   "source": [
    "leeftijd = 16\n",
    "if leeftijd < 18:\n",
    "    print(\"Sorry, je bent niet stemgerechtigd\")\n",
    "    print(\"Kom over\", 18 - leeftijd, \"jaar terug\")"
   ]
  },
  {
   "cell_type": "markdown",
   "metadata": {},
   "source": [
    "### Oefening\n",
    "\n",
    "Alice heeft de volgende stukjes code met een if-statement geschreven, maar ze krijgt steeds een foutmelding. Kijk goed naar de voorbeelden hierboven en verbeter haar code:"
   ]
  },
  {
   "cell_type": "code",
   "execution_count": 4,
   "metadata": {
    "tags": [
     "raises-exception"
    ]
   },
   "outputs": [
    {
     "ename": "SyntaxError",
     "evalue": "expected ':' (3600123174.py, line 2)",
     "output_type": "error",
     "traceback": [
      "\u001b[0;36m  Cell \u001b[0;32mIn[4], line 2\u001b[0;36m\u001b[0m\n\u001b[0;31m    if getal >= 10\u001b[0m\n\u001b[0m                  ^\u001b[0m\n\u001b[0;31mSyntaxError\u001b[0m\u001b[0;31m:\u001b[0m expected ':'\n"
     ]
    }
   ],
   "source": [
    "getal = 9\n",
    "if getal >= 10\n",
    "    print(\"Dat getal heeft twee of meer cijfers.\")"
   ]
  },
  {
   "cell_type": "code",
   "execution_count": 5,
   "metadata": {
    "tags": [
     "raises-exception"
    ]
   },
   "outputs": [
    {
     "ename": "IndentationError",
     "evalue": "expected an indented block after 'if' statement on line 2 (4032916290.py, line 3)",
     "output_type": "error",
     "traceback": [
      "\u001b[0;36m  Cell \u001b[0;32mIn[5], line 3\u001b[0;36m\u001b[0m\n\u001b[0;31m    print(\"Het vriest!\")\u001b[0m\n\u001b[0m    ^\u001b[0m\n\u001b[0;31mIndentationError\u001b[0m\u001b[0;31m:\u001b[0m expected an indented block after 'if' statement on line 2\n"
     ]
    }
   ],
   "source": [
    "temperatuur = -2\n",
    "if temperatuur <= 0:\n",
    "print(\"Het vriest!\")"
   ]
  },
  {
   "cell_type": "code",
   "execution_count": 6,
   "metadata": {
    "tags": [
     "raises-exception"
    ]
   },
   "outputs": [
    {
     "ename": "SyntaxError",
     "evalue": "invalid syntax. Maybe you meant '==' or ':=' instead of '='? (1199190274.py, line 2)",
     "output_type": "error",
     "traceback": [
      "\u001b[0;36m  Cell \u001b[0;32mIn[6], line 2\u001b[0;36m\u001b[0m\n\u001b[0;31m    if antwoord = \"ja\":\u001b[0m\n\u001b[0m       ^\u001b[0m\n\u001b[0;31mSyntaxError\u001b[0m\u001b[0;31m:\u001b[0m invalid syntax. Maybe you meant '==' or ':=' instead of '='?\n"
     ]
    }
   ],
   "source": [
    "antwoord = input(\"Wil je doorgaan? (ja/nee)\")\n",
    "if antwoord = \"ja\":\n",
    "    print(\"Oké\")"
   ]
  },
  {
   "cell_type": "markdown",
   "metadata": {},
   "source": [
    "<details>\n",
    "    <summary>Hint</summary>\n",
    "    Kijk nog eens goed naar de vergelijkingsoperatoren. <code>=</code> betekent niet hetzelfde als <code>==</code>!\n",
    "</details>"
   ]
  },
  {
   "cell_type": "code",
   "execution_count": 7,
   "metadata": {
    "tags": [
     "raises-exception"
    ]
   },
   "outputs": [
    {
     "ename": "IndentationError",
     "evalue": "unexpected indent (1573737069.py, line 4)",
     "output_type": "error",
     "traceback": [
      "\u001b[0;36m  Cell \u001b[0;32mIn[7], line 4\u001b[0;36m\u001b[0m\n\u001b[0;31m    print(\"Je bent nu ingelogd.\")\u001b[0m\n\u001b[0m    ^\u001b[0m\n\u001b[0;31mIndentationError\u001b[0m\u001b[0;31m:\u001b[0m unexpected indent\n"
     ]
    }
   ],
   "source": [
    "wachtwoord = input(\"Wat is het wachtwoord?\")\n",
    "if wachtwoord == \"Super$ecret\":\n",
    "    print(\"Correct!\")\n",
    "      print(\"Je bent nu ingelogd.\")"
   ]
  },
  {
   "cell_type": "code",
   "execution_count": 8,
   "metadata": {
    "tags": [
     "raises-exception"
    ]
   },
   "outputs": [
    {
     "ename": "SyntaxError",
     "evalue": "invalid syntax (3731421763.py, line 2)",
     "output_type": "error",
     "traceback": [
      "\u001b[0;36m  Cell \u001b[0;32mIn[8], line 2\u001b[0;36m\u001b[0m\n\u001b[0;31m    fi geboortejaar > 1945 and geboortejaar < 1965:\u001b[0m\n\u001b[0m       ^\u001b[0m\n\u001b[0;31mSyntaxError\u001b[0m\u001b[0;31m:\u001b[0m invalid syntax\n"
     ]
    }
   ],
   "source": [
    "geboortejaar = 1953\n",
    "fi geboortejaar > 1945 and geboortejaar < 1965:\n",
    "    print(\"Ok, boomer\")"
   ]
  },
  {
   "cell_type": "markdown",
   "metadata": {},
   "source": [
    "## Else\n",
    "\n",
    "Tot nu toe hebben we alleen code uitgevoerd als de voorwaarde waar is, of die code overgeslagen. Het komt vaak voor dat je iets wilt doen als de voorwaarde waar is, of iets anders als de voorwaarde niet waar is. Daarvoor kunnen we gebruik maken van `else`:"
   ]
  },
  {
   "cell_type": "code",
   "execution_count": 3,
   "metadata": {},
   "outputs": [
    {
     "name": "stdout",
     "output_type": "stream",
     "text": [
      "Je betaalt 9% btw.\n",
      "Prijs (incl. btw): 13.080000000000002\n"
     ]
    }
   ],
   "source": [
    "btwTarief = \"laag\" # \"laag\" of \"hoog\"\n",
    "prijs = 12\n",
    "\n",
    "if btwTarief == \"hoog\":\n",
    "    print(\"Je betaalt 21% btw.\")\n",
    "    prijs = prijs * 1.21\n",
    "else:\n",
    "    print(\"Je betaalt 9% btw.\")\n",
    "    prijs = prijs * 1.09\n",
    "\n",
    "print(\"Prijs (incl. btw):\", prijs)"
   ]
  },
  {
   "cell_type": "markdown",
   "metadata": {},
   "source": [
    "De code onder het `else:` wordt alleen uitgevoerd als de voorwaarde niet waar is. Net als bij het if-statement moeten de regels die bij elkaar horen onder else dezelfde indentatie hebben. Het is ook belangrijk dat de `else:` regel dezelfde indentatie heeft als de `if ...:` regel waar die bij hoort."
   ]
  },
  {
   "cell_type": "markdown",
   "metadata": {},
   "source": [
    "\n",
    "### Oefening\n",
    "\n",
    "Bob heeft een aantal programma's met een if/else-statement geschreven, maar hij krijgt steeds een foutmelding. Kijk nog eens goed naar de voorbeelden en verbeter Bobs code:"
   ]
  },
  {
   "cell_type": "code",
   "execution_count": 9,
   "metadata": {
    "tags": [
     "raises-exception"
    ]
   },
   "outputs": [
    {
     "ename": "SyntaxError",
     "evalue": "expected ':' (3293257547.py, line 4)",
     "output_type": "error",
     "traceback": [
      "\u001b[0;36m  Cell \u001b[0;32mIn[9], line 4\u001b[0;36m\u001b[0m\n\u001b[0;31m    else\u001b[0m\n\u001b[0m        ^\u001b[0m\n\u001b[0;31mSyntaxError\u001b[0m\u001b[0;31m:\u001b[0m expected ':'\n"
     ]
    }
   ],
   "source": [
    "totaalBedrag = 22\n",
    "if totaalBedrag < 20:\n",
    "    print(\"De verzendkosten zijn €4,95\")\n",
    "else\n",
    "    print(\"Je pakket wordt gratis verzonden!\")"
   ]
  },
  {
   "cell_type": "code",
   "execution_count": 11,
   "metadata": {
    "tags": [
     "raises-exception"
    ]
   },
   "outputs": [
    {
     "ename": "SyntaxError",
     "evalue": "invalid syntax (2044969683.py, line 4)",
     "output_type": "error",
     "traceback": [
      "\u001b[0;36m  Cell \u001b[0;32mIn[11], line 4\u001b[0;36m\u001b[0m\n\u001b[0;31m    else:\u001b[0m\n\u001b[0m    ^\u001b[0m\n\u001b[0;31mSyntaxError\u001b[0m\u001b[0;31m:\u001b[0m invalid syntax\n"
     ]
    }
   ],
   "source": [
    "stoplicht = \"groen\"\n",
    "if stoplicht == \"rood\":\n",
    "    print(\"Je moet stoppen.\")\n",
    "    else:\n",
    "        print(\"Je mag doorlopen.\")"
   ]
  },
  {
   "cell_type": "code",
   "execution_count": 2,
   "metadata": {
    "tags": [
     "raises-exception"
    ]
   },
   "outputs": [
    {
     "ename": "IndentationError",
     "evalue": "unindent does not match any outer indentation level (<tokenize>, line 8)",
     "output_type": "error",
     "traceback": [
      "\u001b[0;36m  File \u001b[0;32m<tokenize>:8\u001b[0;36m\u001b[0m\n\u001b[0;31m    print(\"Ik drink mijn koffie zwart.\")\u001b[0m\n\u001b[0m    ^\u001b[0m\n\u001b[0;31mIndentationError\u001b[0m\u001b[0;31m:\u001b[0m unindent does not match any outer indentation level\n"
     ]
    }
   ],
   "source": [
    "metSuiker = True\n",
    "print(\"Tijd voor koffie!\")\n",
    "if metSuiker:\n",
    "    print(\"Met suiker, natuurlijk.\")\n",
    "else:\n",
    "      print(\"Zonder suiker.\")\n",
    "    print(\"Ik drink mijn koffie zwart.\")"
   ]
  },
  {
   "cell_type": "markdown",
   "metadata": {},
   "source": [
    "### Oefening\n",
    "\n",
    "Carol heeft een programma geschreven dat bepaalt of een speler dubbele ogen heeft gegooid bij een spelletje Monopoly. Ze krijgt geen foutmeldingen, maar het programma werkt toch niet helemaal zoals Carol bedoeld had. Als de speler dubbel gooit, dan print het programma dat de volgende speler aan de beurt is, terwijl je juist dan nog een keer mag gooien. Andersom gaat het ook fout. Verbeter het programma zodat het wel voldoet aan de eisen."
   ]
  },
  {
   "cell_type": "code",
   "execution_count": 19,
   "metadata": {},
   "outputs": [
    {
     "name": "stdout",
     "output_type": "stream",
     "text": [
      "Eerste worp: 2 Tweede worp: 2\n",
      "Je mag 4 stappen zetten.\n",
      "De volgende speler is aan de beurt.\n"
     ]
    }
   ],
   "source": [
    "import random\n",
    "\n",
    "# Uit de range 1 tot 7, dus dat is 1 t/m 6\n",
    "eersteWorp = random.randrange(1, 7)\n",
    "tweedeWorp = random.randrange(1, 7)\n",
    "\n",
    "print(\"Eerste worp:\", eersteWorp, \"Tweede worp:\", tweedeWorp)\n",
    "print(\"Je mag\", eersteWorp + tweedeWorp, \"stappen zetten.\")\n",
    "\n",
    "if eersteWorp != tweedeWorp:\n",
    "    print(\"Je hebt dubbel gegooid, je mag nog een keer gooien!\")\n",
    "else:\n",
    "    print(\"De volgende speler is aan de beurt.\")"
   ]
  },
  {
   "cell_type": "markdown",
   "metadata": {},
   "source": [
    "### Oefening\n",
    "\n",
    "*Hier een standaard schrijf-een-programma-met-if/else-oefening, zoals in de originele methode.*"
   ]
  },
  {
   "cell_type": "markdown",
   "metadata": {},
   "source": [
    "## Elif\n",
    "\n",
    "Soms zijn er meer dan twee opties, zoals bijvoorbeeld bij de BTW: voor enkele producten geldt een tarief van 0%. Je kunt natuurlijk een tweede if-statement in het else-blok zetten om de juiste optie te kiezen:"
   ]
  },
  {
   "cell_type": "code",
   "execution_count": 4,
   "metadata": {},
   "outputs": [
    {
     "name": "stdout",
     "output_type": "stream",
     "text": [
      "Je betaalt geen btw.\n",
      "Prijs (incl. btw): 24\n"
     ]
    }
   ],
   "source": [
    "btwTarief = \"geen\" # \"hoog\", \"laag\" of \"geen\"\n",
    "prijs = 24\n",
    "\n",
    "if btwTarief == \"hoog\":\n",
    "    print(\"Je betaalt 21% btw.\")\n",
    "    prijs = prijs * 1.21\n",
    "else:\n",
    "    if btwTarief == \"laag\":\n",
    "        print(\"Je betaalt 9% btw.\")\n",
    "        prijs = prijs * 1.09\n",
    "    else:\n",
    "        print(\"Je betaalt geen btw.\")\n",
    "        # prijs blijft dus gelijk\n",
    "\n",
    "print(\"Prijs (incl. btw):\", prijs)"
   ]
  },
  {
   "cell_type": "markdown",
   "metadata": {},
   "source": [
    "Als je nog veel meer dan drie opties hebt, kan je code daardoor heel onoverzichtelijk worden. Gelukkig is er ook een manier om het korter op te schrijven met `elif`:"
   ]
  },
  {
   "cell_type": "code",
   "execution_count": 6,
   "metadata": {},
   "outputs": [
    {
     "name": "stdout",
     "output_type": "stream",
     "text": [
      "Je betaalt geen btw.\n",
      "Prijs (incl. btw): 24\n"
     ]
    }
   ],
   "source": [
    "btwTarief = \"geen\" # \"hoog\", \"laag\" of \"geen\"\n",
    "prijs = 24\n",
    "\n",
    "if btwTarief == \"hoog\":\n",
    "    print(\"Je betaalt 21% btw.\")\n",
    "    prijs = prijs * 1.21\n",
    "elif btwTarief == \"laag\":\n",
    "    print(\"Je betaalt 9% btw.\")\n",
    "    prijs = prijs * 1.09\n",
    "else:\n",
    "    print(\"Je betaalt geen btw.\")\n",
    "    # prijs blijft dus gelijk\n",
    "\n",
    "print(\"Prijs (incl. btw):\", prijs)"
   ]
  },
  {
   "cell_type": "markdown",
   "metadata": {},
   "source": [
    "Hier wordt eerst gecontroleerd of het `btwTarief` gelijk is aan \"hoog\". Als dat zo is wordt het eerste blokje code uitgevoerd en de rest overgeslagen. Zo niet, dan wordt dat blok overgeslagen en de vergelijking `btwTarief == \"laag\"` gecontroleerd. Als die waar is, dan wordt het tweede blokje code uitgevoerd (en de derde overgeslagen). Als die ook niet waar is, dan wordt de code in het derde blokje uitgevoerd. Een `elif` komt altijd na een `if`-blok en in zo'n rijtje komt de `else` altijd als laatste. Je kunt zoveel `elif`s toevoegen tussen de `if` en `else` blokken als nodig is in je programma."
   ]
  },
  {
   "cell_type": "markdown",
   "metadata": {},
   "source": [
    "### Oefening\n",
    "\n",
    "Dave heeft een aantal programma's geschreven met `elif`, maar ze krijgt steeds een foutmelding. Kijk nog eens goed naar de voorbeelden en verbeter zijn code:"
   ]
  },
  {
   "cell_type": "code",
   "execution_count": 14,
   "metadata": {
    "tags": [
     "raises-exception"
    ]
   },
   "outputs": [
    {
     "ename": "SyntaxError",
     "evalue": "expected ':' (287635751.py, line 4)",
     "output_type": "error",
     "traceback": [
      "\u001b[0;36m  Cell \u001b[0;32mIn[14], line 4\u001b[0;36m\u001b[0m\n\u001b[0;31m    else if antwoord == \"nee\":\u001b[0m\n\u001b[0m         ^\u001b[0m\n\u001b[0;31mSyntaxError\u001b[0m\u001b[0;31m:\u001b[0m expected ':'\n"
     ]
    }
   ],
   "source": [
    "antwoord = input(\"Wil je doorgaan? (ja/nee)\")\n",
    "if antwoord == \"ja\":\n",
    "    print(\"Oké, we gaan door!\")\n",
    "else if antwoord == \"nee\":\n",
    "    print(\"Goed, dan stoppen we hier.\")\n",
    "else:\n",
    "    print(\"Dat is geen goed antwoord.\")"
   ]
  },
  {
   "cell_type": "code",
   "execution_count": 13,
   "metadata": {
    "tags": [
     "raises-exception"
    ]
   },
   "outputs": [
    {
     "ename": "SyntaxError",
     "evalue": "invalid syntax (2833707092.py, line 6)",
     "output_type": "error",
     "traceback": [
      "\u001b[0;36m  Cell \u001b[0;32mIn[13], line 6\u001b[0;36m\u001b[0m\n\u001b[0;31m    elif fruit == \"banaan\":\u001b[0m\n\u001b[0m    ^\u001b[0m\n\u001b[0;31mSyntaxError\u001b[0m\u001b[0;31m:\u001b[0m invalid syntax\n"
     ]
    }
   ],
   "source": [
    "fruit = \"peer\"\n",
    "if fruit == \"appel\":\n",
    "    print(\"Een appeltje voor de dorst!\")\n",
    "else:\n",
    "    print(\"Dat fruit ken ik niet.\")\n",
    "elif fruit == \"banaan\":\n",
    "    print(\"Zo krom als een banaan.\")\n",
    "elif fruit == \"peer\":\n",
    "    print(\"Hij is een toffe peer!\")\n",
    "elif fruit == \"pruim\":\n",
    "    print(\"Deze uitdrukkingen zijn niet te pruimen.\")"
   ]
  },
  {
   "cell_type": "markdown",
   "metadata": {},
   "source": [
    "### Oefening\n",
    "\n",
    "Eve heeft een programma geschreven dat de gebruiker groet afhankelijk van de tijd: goedemorgen tussen 6:00 en 12:00, goedemiddag tussen 12:00 en 18:00, goedenavond tussen 18:00 en 0:00 en goedenacht tussen 0:00 en 6:00. Ze krijgt geen foutmeldingen, maar het programma werkt toch niet helemaal zoals Eve bedoeld had. Om 6:15 print het programma bijvoorbeeld \"Goedenavond!\", terwijl het dan natuurlijk ochtend is. Dat gebeurt ook om bijvoorbeeld 12:43 (in de middag) en 0:26 ('s nachts). Verbeter het programma zodat het wel voldoet aan de eisen.\n",
    "\n",
    "Tip: vervang de regel `uur = datetime.now().hour` door bijvoorbeeld `uur = 6`, om te kijken welke groet geprint wordt om 6 uur 's ochtends."
   ]
  },
  {
   "cell_type": "code",
   "execution_count": 9,
   "metadata": {},
   "outputs": [
    {
     "name": "stdout",
     "output_type": "stream",
     "text": [
      "Goedemorgen!\n"
     ]
    }
   ],
   "source": [
    "from datetime import datetime\n",
    "\n",
    "uur = datetime.now().hour\n",
    "\n",
    "if uur > 0 and uur < 6:\n",
    "    print(\"Goedenacht!\")\n",
    "elif uur > 6 and uur < 12:\n",
    "    print(\"Goedemorgen!\")\n",
    "elif uur > 12 and uur < 18:\n",
    "    print(\"Goedemiddag!\")\n",
    "else:\n",
    "    print(\"Goedenavond!\")"
   ]
  },
  {
   "cell_type": "markdown",
   "metadata": {},
   "source": [
    "<details>\n",
    "    <summary>Hint</summary>\n",
    "    Wat is het verschil tussen <code>></code> en <code>>=</code> en tussen <code><</code> en <code><=</code>?\n",
    "</details>"
   ]
  },
  {
   "cell_type": "markdown",
   "metadata": {},
   "source": [
    "### Oefening\n",
    "\n",
    "Fred heeft een kluis gemaakt waarbij de code afhangt van de datum: de code bestaat uit vier cijfers, waarbij de middelste twee de dag van de maand aanduiden. Het eerste cijfer van de code is een 2 en de laatste een 8. Hij krijgt geen foutmeldingen, maar het programma werkt toch niet helemaal zoals Fred bedoeld had. Op de 12de van de maand zou de code `2128` moeten zijn, maar de kluis gaat niet open. Verbeter het programma zodat de kluis wel met de juiste code geopend kan worden."
   ]
  },
  {
   "cell_type": "code",
   "execution_count": 26,
   "metadata": {},
   "outputs": [
    {
     "name": "stdout",
     "output_type": "stream",
     "text": [
      "Dat is niet de juiste code.\n"
     ]
    }
   ],
   "source": [
    "from datetime import datetime\n",
    "\n",
    "dag = datetime.now().day\n",
    "\n",
    "if dag < 10:\n",
    "    dagCode = \"0\" + str(dag)\n",
    "else:\n",
    "    dagCode = str(dag)\n",
    "\n",
    "kluisCode = \"2\" + dagCode + \"8\"\n",
    "\n",
    "invoerCode = input(\"Wat is de code van de kluis?\")\n",
    "\n",
    "if len(invoerCode) != 4:\n",
    "    print(\"Dat is geen geldige code.\")\n",
    "elif invoerCode == dagCode:\n",
    "    print(\"De kluis is geopend.\")\n",
    "else:\n",
    "    print(\"Dat is niet de juiste code.\")\n"
   ]
  },
  {
   "cell_type": "markdown",
   "metadata": {},
   "source": [
    "### Oefeningen\n",
    "\n",
    "*Hier volgen nog 7 schrijf-een-programma-met-if/elif/else-oefeningen, zoals in de originele methode.*"
   ]
  }
 ],
 "metadata": {
  "kernelspec": {
   "display_name": "Python 3 (ipykernel)",
   "language": "python",
   "name": "python3"
  },
  "language_info": {
   "codemirror_mode": {
    "name": "ipython",
    "version": 3
   },
   "file_extension": ".py",
   "mimetype": "text/x-python",
   "name": "python",
   "nbconvert_exporter": "python",
   "pygments_lexer": "ipython3",
   "version": "3.11.8"
  }
 },
 "nbformat": 4,
 "nbformat_minor": 4
}
